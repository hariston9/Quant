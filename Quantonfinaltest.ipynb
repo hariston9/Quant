{
  "nbformat": 4,
  "nbformat_minor": 0,
  "metadata": {
    "colab": {
      "name": "Quantonfinaltest.ipynb",
      "provenance": [],
      "collapsed_sections": []
    },
    "kernelspec": {
      "name": "python3",
      "display_name": "Python 3"
    },
    "language_info": {
      "name": "python"
    },
    "accelerator": "GPU"
  },
  "cells": [
    {
      "cell_type": "markdown",
      "source": [
        "MARKET MAKING STRATEGY "
      ],
      "metadata": {
        "id": "8nRylIUK-RTG"
      }
    },
    {
      "cell_type": "markdown",
      "source": [
        "Here we will try to use the Bid ask and try make profit on 3bps margins. Also, we will hedge the position incase our loss amount greater than 5000 USD"
      ],
      "metadata": {
        "id": "15lR8tCr-E7L"
      }
    },
    {
      "cell_type": "markdown",
      "source": [
        "Installing pandas package for using pandas dataframe"
      ],
      "metadata": {
        "id": "Jpx0zCdtHr6V"
      }
    },
    {
      "cell_type": "code",
      "execution_count": null,
      "metadata": {
        "id": "D8lvGG3giTuJ"
      },
      "outputs": [],
      "source": [
        "import pandas as pd"
      ]
    },
    {
      "cell_type": "markdown",
      "source": [
        "Importing CSV data file of BTCUSDTC 01-03-2022"
      ],
      "metadata": {
        "id": "2aNAFsOc-jbE"
      }
    },
    {
      "cell_type": "code",
      "source": [
        "data1=pd.read_csv('/content/BTCUSDT2022-03-01.csv', names= ['tradeid', 'price', 'qty',' qoute', 'time', 'isbuyermaker', 'isBestMatch'])"
      ],
      "metadata": {
        "id": "76IiyzVjjq99"
      },
      "execution_count": null,
      "outputs": []
    },
    {
      "cell_type": "markdown",
      "source": [
        "Importing CSV data file of BTCUSDTC 02-03-2022"
      ],
      "metadata": {
        "id": "96lfHzS9-tEE"
      }
    },
    {
      "cell_type": "code",
      "source": [
        "data2=pd.read_csv('/content/BTCUSDT-trades-2022-03-02.csv', names= ['tradeid', 'price', 'qty',' qoute', 'time', 'isbuyermaker', 'isBestMatch'])"
      ],
      "metadata": {
        "id": "rJaQZb4Ttrk-",
        "colab": {
          "base_uri": "https://localhost:8080/"
        },
        "outputId": "24b23bba-b7d0-43c7-ed89-5c077856226d"
      },
      "execution_count": null,
      "outputs": [
        {
          "output_type": "stream",
          "name": "stderr",
          "text": [
            "/usr/local/lib/python3.7/dist-packages/IPython/core/interactiveshell.py:2882: DtypeWarning: Columns (5,6) have mixed types.Specify dtype option on import or set low_memory=False.\n",
            "  exec(code_obj, self.user_global_ns, self.user_ns)\n"
          ]
        }
      ]
    },
    {
      "cell_type": "markdown",
      "source": [
        "Importing CSV data file of BTCUSDTC 03-03-2022"
      ],
      "metadata": {
        "id": "uIPJUnKW-xaH"
      }
    },
    {
      "cell_type": "code",
      "source": [
        "data3=pd.read_csv('/content/BTCUSDT-trades-2022-03-03.csv', names= ['tradeid', 'price', 'qty',' qoute', 'time', 'isbuyermaker', 'isBestMatch'])"
      ],
      "metadata": {
        "id": "E-wnnttjt-Vy"
      },
      "execution_count": null,
      "outputs": []
    },
    {
      "cell_type": "code",
      "source": [
        "data5=pd.concat([data1, data2, data3],ignore_index=True)"
      ],
      "metadata": {
        "id": "VNJpQgef0acK"
      },
      "execution_count": null,
      "outputs": []
    },
    {
      "cell_type": "code",
      "source": [
        "data5.head(5)"
      ],
      "metadata": {
        "id": "S8Pvq2vw5vJZ"
      },
      "execution_count": null,
      "outputs": []
    },
    {
      "cell_type": "markdown",
      "source": [
        "Converting the time column to datetime"
      ],
      "metadata": {
        "id": "CrRPTW93-6dc"
      }
    },
    {
      "cell_type": "code",
      "source": [
        "data5['time'] = pd.to_datetime(data5['time'], unit='ms')"
      ],
      "metadata": {
        "id": "miDMWgyc6LRi"
      },
      "execution_count": null,
      "outputs": []
    },
    {
      "cell_type": "markdown",
      "source": [
        "Assigning data frame data 1, data 2, date 3 of dates March 1,2022, March 2, 2022, and of March 3,2022"
      ],
      "metadata": {
        "id": "dHoqbkNR_FnX"
      }
    },
    {
      "cell_type": "code",
      "source": [
        "df=data3    #when processing March 3 data\n",
        "#df=data2   #when processing March 2 data\n",
        "#df=data1   #when processing March 1 data\n",
        "#df=data5   #when processing all three days together"
      ],
      "metadata": {
        "id": "pg-FwiOc1LtF"
      },
      "execution_count": 29,
      "outputs": []
    },
    {
      "cell_type": "code",
      "source": [
        "pos=0         #Assigning position value\n",
        "num=0         \n",
        "percentchange=[]\n",
        "\n",
        "for i in df.index:    \n",
        "  close=df[\"price\"][i]\n",
        "\n",
        "  if(pos==0):         #To start on the buy side\n",
        "    bp=close\n",
        "    pos=1\n",
        "    z=1.0003*bp\n",
        "  \n",
        "  elif(pos==1 and close>=z):  #To end on the sell side\n",
        "    pos=0\n",
        "    sp=close\n",
        "    pc=(sp/bp-1)*100\n",
        "    percentchange.append(pc)\n",
        "\n",
        "  elif(pos==1 and (bp-close)>=5000):    # Getting a hedge position when the price drops 5000$ \n",
        "    pos=2\n",
        "    sp2=2*close\n",
        "    sp3=close\n",
        "    z2=1.0003*sp3\n",
        "    pc=(sp3/bp-1)*100\n",
        "    percentchange.append(pc)\n",
        "\n",
        "  elif(pos==2 and close>=z2):            # Getting a close on the above hedge position\n",
        "    pos=0\n",
        "    bp=close\n",
        "    pc=(sp3/bp-1)*100\n",
        "    percentchange.append(pc)\n",
        "    \n",
        "  elif(pos==2 and (sp3-close)>=5000):   # Hedging the hedge position above\n",
        "    pos=3\n",
        "    bp=close\n",
        "    z3=1.0003*bp\n",
        "    pc=(sp3/bp-1)*100\n",
        "    percentchange.append(pc)\n",
        "  elif(pos==3 and close>=z3):         # Closing all the position to end the trade\n",
        "    pos=0\n",
        "    sp=close\n",
        "    pc=(sp/bp-1)*100\n",
        "    percentchange.append(pc)\n",
        "\n",
        "  if(num==df[\"price\"].count()-1 and pos==1):    #Ending the trade before the last trade of the dataframe\n",
        "    pos=0\n",
        "    sp=close\n",
        "    pc=(sp/bp-1)*100\n",
        "    percentchange.append(pc)\n",
        "  num+=1\n",
        "\n",
        "gains=0\n",
        "ng=0\n",
        "losses=0\n",
        "nl=0\n",
        "totalR=1\n",
        "\n",
        "for i in percentchange:  # Calculatin gains, no of gains, losses and no of gains\n",
        "  if(i>0):\n",
        "    gains+=i\n",
        "    ng+=1\n",
        "  else:\n",
        "    losses+=i\n",
        "    nl+=1\n",
        "  totalR=totalR*((i/100)+1)\n",
        "totalR=round((totalR-1)*100,2)\n"
      ],
      "metadata": {
        "id": "Ud2x7pe-o5pz"
      },
      "execution_count": 30,
      "outputs": []
    },
    {
      "cell_type": "markdown",
      "source": [
        "Converting percentchange into DataFrame"
      ],
      "metadata": {
        "id": "0QJI03qlBn3O"
      }
    },
    {
      "cell_type": "code",
      "source": [
        "d=pd.DataFrame(percentchange)"
      ],
      "metadata": {
        "id": "M4gPkgNHzSRx"
      },
      "execution_count": 31,
      "outputs": []
    },
    {
      "cell_type": "markdown",
      "source": [
        "Caluculatung sum of percentchange"
      ],
      "metadata": {
        "id": "aN2ms1exBxG-"
      }
    },
    {
      "cell_type": "code",
      "source": [
        "y=d.sum()"
      ],
      "metadata": {
        "id": "W4C_Fxbb00OP"
      },
      "execution_count": 32,
      "outputs": []
    },
    {
      "cell_type": "markdown",
      "source": [
        "Calculating the amount of dollars made"
      ],
      "metadata": {
        "id": "jK3PptN0B7gy"
      }
    },
    {
      "cell_type": "code",
      "source": [
        "z=d.sum()*1000"
      ],
      "metadata": {
        "id": "0FK7CgPHzg2o"
      },
      "execution_count": 33,
      "outputs": []
    },
    {
      "cell_type": "markdown",
      "source": [
        "Calculating Max Return, Max loss"
      ],
      "metadata": {
        "id": "NuFu_FA5CJka"
      }
    },
    {
      "cell_type": "code",
      "source": [
        "if(ng>0):\n",
        "\tavgGain=gains/ng\n",
        "\tmaxR=str(max(percentchange))\n",
        "else:\n",
        "\tavgGain=0\n",
        "\tmaxR=\"undefined\"\n",
        "\n",
        "if(nl>0):\n",
        "\tavgLoss=losses/nl\n",
        "\tmaxL=str(min(percentchange))\n",
        "\tratio=str(-avgGain/avgLoss)\n",
        "else:\n",
        "\tavgLoss=0\n",
        "\tmaxL=\"undefined\"\n",
        "\tratio=\"inf\""
      ],
      "metadata": {
        "id": "6vH3NWvbtYez"
      },
      "execution_count": 34,
      "outputs": []
    },
    {
      "cell_type": "markdown",
      "source": [
        "Printing the values for a quick glance"
      ],
      "metadata": {
        "id": "pcV7vNhpCi62"
      }
    },
    {
      "cell_type": "code",
      "source": [
        "print()\n",
        "print(\"Gross PNL in basis points: \"+ str(y))\n",
        "print(\"Gross PNL in $: \"+ str(z))\n",
        "print(\"Max Drawdown: \"+ maxL)\n",
        "print(\"Average Win: \"+ str(avgGain))\n",
        "print(\"Average Loss: \"+ str(avgLoss))\n",
        "print(\"Total trades \"+str(ng+nl))\n",
        "print()"
      ],
      "metadata": {
        "id": "hHMCk35atUYC",
        "colab": {
          "base_uri": "https://localhost:8080/"
        },
        "outputId": "cbd80dfe-c6c0-484f-bc10-9f6291ceecc9"
      },
      "execution_count": 35,
      "outputs": [
        {
          "output_type": "stream",
          "name": "stdout",
          "text": [
            "\n",
            "Gross PNL in basis points: 0   -0.268065\n",
            "dtype: float64\n",
            "Gross PNL in $: 0   -268.065169\n",
            "dtype: float64\n",
            "Max Drawdown: -0.6346062531379593\n",
            "Average Win: 0.03054509037655288\n",
            "Average Loss: -0.6346062531379593\n",
            "Total trades 13\n",
            "\n"
          ]
        }
      ]
    },
    {
      "cell_type": "markdown",
      "source": [
        "Assigning the calculated values into a dataframe"
      ],
      "metadata": {
        "id": "o6i0rZ5NCpRL"
      }
    },
    {
      "cell_type": "code",
      "source": [
        "Results1=pd.DataFrame()\n",
        "Results1['Gross PNL in basis points']=y\n",
        "Results1['Gross PNL in $']=z\n",
        "Results1['Max Drawdown']=maxL\n",
        "Results1['Average Win']=avgGain\n",
        "Results1['Average Loss']=avgLoss\n",
        "Results1['Total trades']=ng+nl"
      ],
      "metadata": {
        "id": "SuucCDlg3xyc"
      },
      "execution_count": 36,
      "outputs": []
    },
    {
      "cell_type": "markdown",
      "source": [
        "Storing the Results into different data frame, as this helps to process each day seperately or part of the day"
      ],
      "metadata": {
        "id": "7YceibROCzTD"
      }
    },
    {
      "cell_type": "code",
      "source": [
        "f1=Results1"
      ],
      "metadata": {
        "id": "HymIFwh84GsI"
      },
      "execution_count": null,
      "outputs": []
    },
    {
      "cell_type": "markdown",
      "source": [
        "Creating a date column, f1 is for March 1, 2022"
      ],
      "metadata": {
        "id": "4u4o5tNJDBcD"
      }
    },
    {
      "cell_type": "code",
      "source": [
        "f1[\"Date\"]='2022-03-01'"
      ],
      "metadata": {
        "id": "Qe9d2P7P9AYn"
      },
      "execution_count": null,
      "outputs": []
    },
    {
      "cell_type": "code",
      "source": [
        "f1"
      ],
      "metadata": {
        "colab": {
          "base_uri": "https://localhost:8080/",
          "height": 125
        },
        "id": "O3rjfHq85mGJ",
        "outputId": "099523cd-5828-49f1-8925-ddd6475ec74b"
      },
      "execution_count": null,
      "outputs": [
        {
          "output_type": "execute_result",
          "data": {
            "text/plain": [
              "   Gross PNL in basis points  Gross PNL in $         Max Drawdown  \\\n",
              "0                   0.495704      495.704449  -0.5164531137627937   \n",
              "\n",
              "   Average Win  Average Loss  Total trades        Date  \n",
              "0     0.030671     -0.516453            34  2022-03-01  "
            ],
            "text/html": [
              "\n",
              "  <div id=\"df-356fe888-9a90-4c92-a892-99b03ca530fd\">\n",
              "    <div class=\"colab-df-container\">\n",
              "      <div>\n",
              "<style scoped>\n",
              "    .dataframe tbody tr th:only-of-type {\n",
              "        vertical-align: middle;\n",
              "    }\n",
              "\n",
              "    .dataframe tbody tr th {\n",
              "        vertical-align: top;\n",
              "    }\n",
              "\n",
              "    .dataframe thead th {\n",
              "        text-align: right;\n",
              "    }\n",
              "</style>\n",
              "<table border=\"1\" class=\"dataframe\">\n",
              "  <thead>\n",
              "    <tr style=\"text-align: right;\">\n",
              "      <th></th>\n",
              "      <th>Gross PNL in basis points</th>\n",
              "      <th>Gross PNL in $</th>\n",
              "      <th>Max Drawdown</th>\n",
              "      <th>Average Win</th>\n",
              "      <th>Average Loss</th>\n",
              "      <th>Total trades</th>\n",
              "      <th>Date</th>\n",
              "    </tr>\n",
              "  </thead>\n",
              "  <tbody>\n",
              "    <tr>\n",
              "      <th>0</th>\n",
              "      <td>0.495704</td>\n",
              "      <td>495.704449</td>\n",
              "      <td>-0.5164531137627937</td>\n",
              "      <td>0.030671</td>\n",
              "      <td>-0.516453</td>\n",
              "      <td>34</td>\n",
              "      <td>2022-03-01</td>\n",
              "    </tr>\n",
              "  </tbody>\n",
              "</table>\n",
              "</div>\n",
              "      <button class=\"colab-df-convert\" onclick=\"convertToInteractive('df-356fe888-9a90-4c92-a892-99b03ca530fd')\"\n",
              "              title=\"Convert this dataframe to an interactive table.\"\n",
              "              style=\"display:none;\">\n",
              "        \n",
              "  <svg xmlns=\"http://www.w3.org/2000/svg\" height=\"24px\"viewBox=\"0 0 24 24\"\n",
              "       width=\"24px\">\n",
              "    <path d=\"M0 0h24v24H0V0z\" fill=\"none\"/>\n",
              "    <path d=\"M18.56 5.44l.94 2.06.94-2.06 2.06-.94-2.06-.94-.94-2.06-.94 2.06-2.06.94zm-11 1L8.5 8.5l.94-2.06 2.06-.94-2.06-.94L8.5 2.5l-.94 2.06-2.06.94zm10 10l.94 2.06.94-2.06 2.06-.94-2.06-.94-.94-2.06-.94 2.06-2.06.94z\"/><path d=\"M17.41 7.96l-1.37-1.37c-.4-.4-.92-.59-1.43-.59-.52 0-1.04.2-1.43.59L10.3 9.45l-7.72 7.72c-.78.78-.78 2.05 0 2.83L4 21.41c.39.39.9.59 1.41.59.51 0 1.02-.2 1.41-.59l7.78-7.78 2.81-2.81c.8-.78.8-2.07 0-2.86zM5.41 20L4 18.59l7.72-7.72 1.47 1.35L5.41 20z\"/>\n",
              "  </svg>\n",
              "      </button>\n",
              "      \n",
              "  <style>\n",
              "    .colab-df-container {\n",
              "      display:flex;\n",
              "      flex-wrap:wrap;\n",
              "      gap: 12px;\n",
              "    }\n",
              "\n",
              "    .colab-df-convert {\n",
              "      background-color: #E8F0FE;\n",
              "      border: none;\n",
              "      border-radius: 50%;\n",
              "      cursor: pointer;\n",
              "      display: none;\n",
              "      fill: #1967D2;\n",
              "      height: 32px;\n",
              "      padding: 0 0 0 0;\n",
              "      width: 32px;\n",
              "    }\n",
              "\n",
              "    .colab-df-convert:hover {\n",
              "      background-color: #E2EBFA;\n",
              "      box-shadow: 0px 1px 2px rgba(60, 64, 67, 0.3), 0px 1px 3px 1px rgba(60, 64, 67, 0.15);\n",
              "      fill: #174EA6;\n",
              "    }\n",
              "\n",
              "    [theme=dark] .colab-df-convert {\n",
              "      background-color: #3B4455;\n",
              "      fill: #D2E3FC;\n",
              "    }\n",
              "\n",
              "    [theme=dark] .colab-df-convert:hover {\n",
              "      background-color: #434B5C;\n",
              "      box-shadow: 0px 1px 3px 1px rgba(0, 0, 0, 0.15);\n",
              "      filter: drop-shadow(0px 1px 2px rgba(0, 0, 0, 0.3));\n",
              "      fill: #FFFFFF;\n",
              "    }\n",
              "  </style>\n",
              "\n",
              "      <script>\n",
              "        const buttonEl =\n",
              "          document.querySelector('#df-356fe888-9a90-4c92-a892-99b03ca530fd button.colab-df-convert');\n",
              "        buttonEl.style.display =\n",
              "          google.colab.kernel.accessAllowed ? 'block' : 'none';\n",
              "\n",
              "        async function convertToInteractive(key) {\n",
              "          const element = document.querySelector('#df-356fe888-9a90-4c92-a892-99b03ca530fd');\n",
              "          const dataTable =\n",
              "            await google.colab.kernel.invokeFunction('convertToInteractive',\n",
              "                                                     [key], {});\n",
              "          if (!dataTable) return;\n",
              "\n",
              "          const docLinkHtml = 'Like what you see? Visit the ' +\n",
              "            '<a target=\"_blank\" href=https://colab.research.google.com/notebooks/data_table.ipynb>data table notebook</a>'\n",
              "            + ' to learn more about interactive tables.';\n",
              "          element.innerHTML = '';\n",
              "          dataTable['output_type'] = 'display_data';\n",
              "          await google.colab.output.renderOutput(dataTable, element);\n",
              "          const docLink = document.createElement('div');\n",
              "          docLink.innerHTML = docLinkHtml;\n",
              "          element.appendChild(docLink);\n",
              "        }\n",
              "      </script>\n",
              "    </div>\n",
              "  </div>\n",
              "  "
            ]
          },
          "metadata": {},
          "execution_count": 17
        }
      ]
    },
    {
      "cell_type": "code",
      "source": [
        "f2=Results1"
      ],
      "metadata": {
        "id": "LXjRCZkc4H9O"
      },
      "execution_count": null,
      "outputs": []
    },
    {
      "cell_type": "code",
      "source": [
        "f2"
      ],
      "metadata": {
        "colab": {
          "base_uri": "https://localhost:8080/"
        },
        "id": "5prqd_zQ8rKQ",
        "outputId": "eee5372a-2129-4d66-f4fb-197db700809b"
      },
      "execution_count": null,
      "outputs": [
        {
          "output_type": "execute_result",
          "data": {
            "text/plain": [
              "   Gross PNL in basis points  Gross PNL in $         Max Drawdown  \\\n",
              "0                  -0.799038     -799.038464  -1.5332290502793389   \n",
              "\n",
              "   Average Win  Average Loss  Total trades  \n",
              "0     0.030591     -1.533229            25  "
            ],
            "text/html": [
              "\n",
              "  <div id=\"df-2d1170b9-c54f-4a58-bf83-13a6e193ffe6\">\n",
              "    <div class=\"colab-df-container\">\n",
              "      <div>\n",
              "<style scoped>\n",
              "    .dataframe tbody tr th:only-of-type {\n",
              "        vertical-align: middle;\n",
              "    }\n",
              "\n",
              "    .dataframe tbody tr th {\n",
              "        vertical-align: top;\n",
              "    }\n",
              "\n",
              "    .dataframe thead th {\n",
              "        text-align: right;\n",
              "    }\n",
              "</style>\n",
              "<table border=\"1\" class=\"dataframe\">\n",
              "  <thead>\n",
              "    <tr style=\"text-align: right;\">\n",
              "      <th></th>\n",
              "      <th>Gross PNL in basis points</th>\n",
              "      <th>Gross PNL in $</th>\n",
              "      <th>Max Drawdown</th>\n",
              "      <th>Average Win</th>\n",
              "      <th>Average Loss</th>\n",
              "      <th>Total trades</th>\n",
              "    </tr>\n",
              "  </thead>\n",
              "  <tbody>\n",
              "    <tr>\n",
              "      <th>0</th>\n",
              "      <td>-0.799038</td>\n",
              "      <td>-799.038464</td>\n",
              "      <td>-1.5332290502793389</td>\n",
              "      <td>0.030591</td>\n",
              "      <td>-1.533229</td>\n",
              "      <td>25</td>\n",
              "    </tr>\n",
              "  </tbody>\n",
              "</table>\n",
              "</div>\n",
              "      <button class=\"colab-df-convert\" onclick=\"convertToInteractive('df-2d1170b9-c54f-4a58-bf83-13a6e193ffe6')\"\n",
              "              title=\"Convert this dataframe to an interactive table.\"\n",
              "              style=\"display:none;\">\n",
              "        \n",
              "  <svg xmlns=\"http://www.w3.org/2000/svg\" height=\"24px\"viewBox=\"0 0 24 24\"\n",
              "       width=\"24px\">\n",
              "    <path d=\"M0 0h24v24H0V0z\" fill=\"none\"/>\n",
              "    <path d=\"M18.56 5.44l.94 2.06.94-2.06 2.06-.94-2.06-.94-.94-2.06-.94 2.06-2.06.94zm-11 1L8.5 8.5l.94-2.06 2.06-.94-2.06-.94L8.5 2.5l-.94 2.06-2.06.94zm10 10l.94 2.06.94-2.06 2.06-.94-2.06-.94-.94-2.06-.94 2.06-2.06.94z\"/><path d=\"M17.41 7.96l-1.37-1.37c-.4-.4-.92-.59-1.43-.59-.52 0-1.04.2-1.43.59L10.3 9.45l-7.72 7.72c-.78.78-.78 2.05 0 2.83L4 21.41c.39.39.9.59 1.41.59.51 0 1.02-.2 1.41-.59l7.78-7.78 2.81-2.81c.8-.78.8-2.07 0-2.86zM5.41 20L4 18.59l7.72-7.72 1.47 1.35L5.41 20z\"/>\n",
              "  </svg>\n",
              "      </button>\n",
              "      \n",
              "  <style>\n",
              "    .colab-df-container {\n",
              "      display:flex;\n",
              "      flex-wrap:wrap;\n",
              "      gap: 12px;\n",
              "    }\n",
              "\n",
              "    .colab-df-convert {\n",
              "      background-color: #E8F0FE;\n",
              "      border: none;\n",
              "      border-radius: 50%;\n",
              "      cursor: pointer;\n",
              "      display: none;\n",
              "      fill: #1967D2;\n",
              "      height: 32px;\n",
              "      padding: 0 0 0 0;\n",
              "      width: 32px;\n",
              "    }\n",
              "\n",
              "    .colab-df-convert:hover {\n",
              "      background-color: #E2EBFA;\n",
              "      box-shadow: 0px 1px 2px rgba(60, 64, 67, 0.3), 0px 1px 3px 1px rgba(60, 64, 67, 0.15);\n",
              "      fill: #174EA6;\n",
              "    }\n",
              "\n",
              "    [theme=dark] .colab-df-convert {\n",
              "      background-color: #3B4455;\n",
              "      fill: #D2E3FC;\n",
              "    }\n",
              "\n",
              "    [theme=dark] .colab-df-convert:hover {\n",
              "      background-color: #434B5C;\n",
              "      box-shadow: 0px 1px 3px 1px rgba(0, 0, 0, 0.15);\n",
              "      filter: drop-shadow(0px 1px 2px rgba(0, 0, 0, 0.3));\n",
              "      fill: #FFFFFF;\n",
              "    }\n",
              "  </style>\n",
              "\n",
              "      <script>\n",
              "        const buttonEl =\n",
              "          document.querySelector('#df-2d1170b9-c54f-4a58-bf83-13a6e193ffe6 button.colab-df-convert');\n",
              "        buttonEl.style.display =\n",
              "          google.colab.kernel.accessAllowed ? 'block' : 'none';\n",
              "\n",
              "        async function convertToInteractive(key) {\n",
              "          const element = document.querySelector('#df-2d1170b9-c54f-4a58-bf83-13a6e193ffe6');\n",
              "          const dataTable =\n",
              "            await google.colab.kernel.invokeFunction('convertToInteractive',\n",
              "                                                     [key], {});\n",
              "          if (!dataTable) return;\n",
              "\n",
              "          const docLinkHtml = 'Like what you see? Visit the ' +\n",
              "            '<a target=\"_blank\" href=https://colab.research.google.com/notebooks/data_table.ipynb>data table notebook</a>'\n",
              "            + ' to learn more about interactive tables.';\n",
              "          element.innerHTML = '';\n",
              "          dataTable['output_type'] = 'display_data';\n",
              "          await google.colab.output.renderOutput(dataTable, element);\n",
              "          const docLink = document.createElement('div');\n",
              "          docLink.innerHTML = docLinkHtml;\n",
              "          element.appendChild(docLink);\n",
              "        }\n",
              "      </script>\n",
              "    </div>\n",
              "  </div>\n",
              "  "
            ]
          },
          "metadata": {},
          "execution_count": 27
        }
      ]
    },
    {
      "cell_type": "markdown",
      "source": [
        "Creating a date column, f1 is for March 2, 2022"
      ],
      "metadata": {
        "id": "oGzHyvh2DXuH"
      }
    },
    {
      "cell_type": "code",
      "source": [
        "f2[\"Date\"]='2022-03-02'"
      ],
      "metadata": {
        "id": "NSpfcgpP80VZ"
      },
      "execution_count": null,
      "outputs": []
    },
    {
      "cell_type": "code",
      "source": [
        "f3=Results1"
      ],
      "metadata": {
        "id": "2yhqciD0-Wk_"
      },
      "execution_count": 37,
      "outputs": []
    },
    {
      "cell_type": "markdown",
      "source": [
        "Creating a date column, f1 is for March 3, 2022"
      ],
      "metadata": {
        "id": "3NnFN2wdDdRF"
      }
    },
    {
      "cell_type": "code",
      "source": [
        "f3[\"Date\"]='2022-03-03'"
      ],
      "metadata": {
        "id": "TlogqmnW_uRR"
      },
      "execution_count": 38,
      "outputs": []
    },
    {
      "cell_type": "code",
      "source": [
        "f3"
      ],
      "metadata": {
        "colab": {
          "base_uri": "https://localhost:8080/",
          "height": 81
        },
        "id": "QZRlAmB3_wpF",
        "outputId": "9740467c-8b05-4077-a049-7ec14cc503e1"
      },
      "execution_count": null,
      "outputs": [
        {
          "output_type": "execute_result",
          "data": {
            "text/plain": [
              "   Gross PNL in basis points  Gross PNL in $        Max Drawdown  Average Win  \\\n",
              "0                  -0.731939     -731.938984  -1.098480068202179     0.030545   \n",
              "\n",
              "   Average Loss  Total trades        Date  \n",
              "0      -1.09848            13  2022-03-03  "
            ],
            "text/html": [
              "\n",
              "  <div id=\"df-bda6489d-4bcc-4f3a-8bb3-d95a99bac506\">\n",
              "    <div class=\"colab-df-container\">\n",
              "      <div>\n",
              "<style scoped>\n",
              "    .dataframe tbody tr th:only-of-type {\n",
              "        vertical-align: middle;\n",
              "    }\n",
              "\n",
              "    .dataframe tbody tr th {\n",
              "        vertical-align: top;\n",
              "    }\n",
              "\n",
              "    .dataframe thead th {\n",
              "        text-align: right;\n",
              "    }\n",
              "</style>\n",
              "<table border=\"1\" class=\"dataframe\">\n",
              "  <thead>\n",
              "    <tr style=\"text-align: right;\">\n",
              "      <th></th>\n",
              "      <th>Gross PNL in basis points</th>\n",
              "      <th>Gross PNL in $</th>\n",
              "      <th>Max Drawdown</th>\n",
              "      <th>Average Win</th>\n",
              "      <th>Average Loss</th>\n",
              "      <th>Total trades</th>\n",
              "      <th>Date</th>\n",
              "    </tr>\n",
              "  </thead>\n",
              "  <tbody>\n",
              "    <tr>\n",
              "      <th>0</th>\n",
              "      <td>-0.731939</td>\n",
              "      <td>-731.938984</td>\n",
              "      <td>-1.098480068202179</td>\n",
              "      <td>0.030545</td>\n",
              "      <td>-1.09848</td>\n",
              "      <td>13</td>\n",
              "      <td>2022-03-03</td>\n",
              "    </tr>\n",
              "  </tbody>\n",
              "</table>\n",
              "</div>\n",
              "      <button class=\"colab-df-convert\" onclick=\"convertToInteractive('df-bda6489d-4bcc-4f3a-8bb3-d95a99bac506')\"\n",
              "              title=\"Convert this dataframe to an interactive table.\"\n",
              "              style=\"display:none;\">\n",
              "        \n",
              "  <svg xmlns=\"http://www.w3.org/2000/svg\" height=\"24px\"viewBox=\"0 0 24 24\"\n",
              "       width=\"24px\">\n",
              "    <path d=\"M0 0h24v24H0V0z\" fill=\"none\"/>\n",
              "    <path d=\"M18.56 5.44l.94 2.06.94-2.06 2.06-.94-2.06-.94-.94-2.06-.94 2.06-2.06.94zm-11 1L8.5 8.5l.94-2.06 2.06-.94-2.06-.94L8.5 2.5l-.94 2.06-2.06.94zm10 10l.94 2.06.94-2.06 2.06-.94-2.06-.94-.94-2.06-.94 2.06-2.06.94z\"/><path d=\"M17.41 7.96l-1.37-1.37c-.4-.4-.92-.59-1.43-.59-.52 0-1.04.2-1.43.59L10.3 9.45l-7.72 7.72c-.78.78-.78 2.05 0 2.83L4 21.41c.39.39.9.59 1.41.59.51 0 1.02-.2 1.41-.59l7.78-7.78 2.81-2.81c.8-.78.8-2.07 0-2.86zM5.41 20L4 18.59l7.72-7.72 1.47 1.35L5.41 20z\"/>\n",
              "  </svg>\n",
              "      </button>\n",
              "      \n",
              "  <style>\n",
              "    .colab-df-container {\n",
              "      display:flex;\n",
              "      flex-wrap:wrap;\n",
              "      gap: 12px;\n",
              "    }\n",
              "\n",
              "    .colab-df-convert {\n",
              "      background-color: #E8F0FE;\n",
              "      border: none;\n",
              "      border-radius: 50%;\n",
              "      cursor: pointer;\n",
              "      display: none;\n",
              "      fill: #1967D2;\n",
              "      height: 32px;\n",
              "      padding: 0 0 0 0;\n",
              "      width: 32px;\n",
              "    }\n",
              "\n",
              "    .colab-df-convert:hover {\n",
              "      background-color: #E2EBFA;\n",
              "      box-shadow: 0px 1px 2px rgba(60, 64, 67, 0.3), 0px 1px 3px 1px rgba(60, 64, 67, 0.15);\n",
              "      fill: #174EA6;\n",
              "    }\n",
              "\n",
              "    [theme=dark] .colab-df-convert {\n",
              "      background-color: #3B4455;\n",
              "      fill: #D2E3FC;\n",
              "    }\n",
              "\n",
              "    [theme=dark] .colab-df-convert:hover {\n",
              "      background-color: #434B5C;\n",
              "      box-shadow: 0px 1px 3px 1px rgba(0, 0, 0, 0.15);\n",
              "      filter: drop-shadow(0px 1px 2px rgba(0, 0, 0, 0.3));\n",
              "      fill: #FFFFFF;\n",
              "    }\n",
              "  </style>\n",
              "\n",
              "      <script>\n",
              "        const buttonEl =\n",
              "          document.querySelector('#df-bda6489d-4bcc-4f3a-8bb3-d95a99bac506 button.colab-df-convert');\n",
              "        buttonEl.style.display =\n",
              "          google.colab.kernel.accessAllowed ? 'block' : 'none';\n",
              "\n",
              "        async function convertToInteractive(key) {\n",
              "          const element = document.querySelector('#df-bda6489d-4bcc-4f3a-8bb3-d95a99bac506');\n",
              "          const dataTable =\n",
              "            await google.colab.kernel.invokeFunction('convertToInteractive',\n",
              "                                                     [key], {});\n",
              "          if (!dataTable) return;\n",
              "\n",
              "          const docLinkHtml = 'Like what you see? Visit the ' +\n",
              "            '<a target=\"_blank\" href=https://colab.research.google.com/notebooks/data_table.ipynb>data table notebook</a>'\n",
              "            + ' to learn more about interactive tables.';\n",
              "          element.innerHTML = '';\n",
              "          dataTable['output_type'] = 'display_data';\n",
              "          await google.colab.output.renderOutput(dataTable, element);\n",
              "          const docLink = document.createElement('div');\n",
              "          docLink.innerHTML = docLinkHtml;\n",
              "          element.appendChild(docLink);\n",
              "        }\n",
              "      </script>\n",
              "    </div>\n",
              "  </div>\n",
              "  "
            ]
          },
          "metadata": {},
          "execution_count": 135
        }
      ]
    },
    {
      "cell_type": "markdown",
      "source": [
        "Combining the data frames"
      ],
      "metadata": {
        "id": "V9zBSgGiDqjr"
      }
    },
    {
      "cell_type": "code",
      "source": [
        "final=pd.concat([f1, f2, f3],ignore_index=True)"
      ],
      "metadata": {
        "id": "kc45_YxG_2r6"
      },
      "execution_count": 39,
      "outputs": []
    },
    {
      "cell_type": "markdown",
      "source": [
        "Setting the date as an index"
      ],
      "metadata": {
        "id": "HAXQod9IDxsu"
      }
    },
    {
      "cell_type": "code",
      "source": [
        "ff=final.set_index('Date')"
      ],
      "metadata": {
        "id": "eFSJE6kp_crI"
      },
      "execution_count": 40,
      "outputs": []
    },
    {
      "cell_type": "markdown",
      "source": [
        "Exporting the dataframe into CSV"
      ],
      "metadata": {
        "id": "fSOP0XpPD4V0"
      }
    },
    {
      "cell_type": "code",
      "source": [
        "ff.to_csv('final_r.csv')"
      ],
      "metadata": {
        "id": "sEatZveKASYC"
      },
      "execution_count": 41,
      "outputs": []
    }
  ]
}