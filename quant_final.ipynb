{
  "nbformat": 4,
  "nbformat_minor": 0,
  "metadata": {
    "colab": {
      "name": "quant final.ipynb",
      "provenance": [],
      "collapsed_sections": []
    },
    "kernelspec": {
      "name": "python3",
      "display_name": "Python 3"
    },
    "language_info": {
      "name": "python"
    }
  },
  "cells": [
    {
      "cell_type": "markdown",
      "source": [
        "MARKET MAKING STRATEGY "
      ],
      "metadata": {
        "id": "XK1kacURj3N7"
      }
    },
    {
      "cell_type": "markdown",
      "source": [
        "Here we will try to use the Bid ask and try make profit on 3bps margins. Also, we will hedge the position incase our loss amount greater than 5000 USD"
      ],
      "metadata": {
        "id": "qXs6H-TskdNg"
      }
    },
    {
      "cell_type": "markdown",
      "source": [
        "Installing Different Packages required for analysis\n",
        "-yfinance package is used to download historical BTCUSDT data for March 01 2022 to March 03 2022\n",
        "\n",
        "Also, Pandas data frame is use to prforming different operations on the data"
      ],
      "metadata": {
        "id": "CZkpZV4Oj-_T"
      }
    },
    {
      "cell_type": "code",
      "execution_count": null,
      "metadata": {
        "id": "Qp6_LQgbgJOt"
      },
      "outputs": [],
      "source": [
        "!pip install yfinance python-binance"
      ]
    },
    {
      "cell_type": "code",
      "source": [
        "import pandas as pd"
      ],
      "metadata": {
        "id": "fazp9bUsgXv5"
      },
      "execution_count": null,
      "outputs": []
    },
    {
      "cell_type": "code",
      "source": [
        "import yfinance as yf\n",
        "\n",
        "# Inserting ticker information in the dataset\n",
        "data= yf.Ticker(\"BTC-USD\")\n",
        "data"
      ],
      "metadata": {
        "colab": {
          "base_uri": "https://localhost:8080/"
        },
        "id": "bX7C1czjgRhX",
        "outputId": "6ff76695-5918-4f3e-d303-538897d2aabb"
      },
      "execution_count": null,
      "outputs": [
        {
          "output_type": "execute_result",
          "data": {
            "text/plain": [
              "yfinance.Ticker object <BTC-USD>"
            ]
          },
          "metadata": {},
          "execution_count": 3
        }
      ]
    },
    {
      "cell_type": "markdown",
      "source": [
        "Importing Binance package to get data and execute orders"
      ],
      "metadata": {
        "id": "SERzyli8k6xE"
      }
    },
    {
      "cell_type": "code",
      "source": [
        "from binance import Client, ThreadedWebsocketManager, ThreadedDepthCacheManager\n",
        "import pandas as pd\n"
      ],
      "metadata": {
        "id": "zb8L-h-yL84X"
      },
      "execution_count": null,
      "outputs": []
    },
    {
      "cell_type": "markdown",
      "source": [
        "Create the Binance account and get your own apikey, secret key to be used to connect to your account to execute orders"
      ],
      "metadata": {
        "id": "sSAEV03ilLE9"
      }
    },
    {
      "cell_type": "code",
      "source": [
        "apikey= ' '\n",
        "secret= ' '"
      ],
      "metadata": {
        "id": "ajx3Qyr6MEW3"
      },
      "execution_count": null,
      "outputs": []
    },
    {
      "cell_type": "markdown",
      "source": [
        "Pulling historical data for the first 3 days of March 2022 and saving it in a data frame."
      ],
      "metadata": {
        "id": "7TyrbAn3lYBL"
      }
    },
    {
      "cell_type": "code",
      "source": [
        "BTC_historical = data.history(start=\"2022-03-01\", end=\"2022-03-03\", interval=\"15m\")\n",
        "BTC_historical"
      ],
      "metadata": {
        "colab": {
          "base_uri": "https://localhost:8080/",
          "height": 455
        },
        "id": "ZcFZvskngUBZ",
        "outputId": "db1836cf-4bda-4771-9e82-2182a468654f"
      },
      "execution_count": null,
      "outputs": [
        {
          "output_type": "execute_result",
          "data": {
            "text/plain": [
              "                                   Open          High           Low  \\\n",
              "Datetime                                                              \n",
              "2022-03-01 00:00:00+00:00  43194.835938  43420.824219  43194.835938   \n",
              "2022-03-01 00:15:00+00:00  43464.234375  43464.234375  43267.476562   \n",
              "2022-03-01 00:30:00+00:00  43370.152344  43464.714844  43351.890625   \n",
              "2022-03-01 00:45:00+00:00  43460.023438  43549.796875  43418.398438   \n",
              "2022-03-01 01:00:00+00:00  43521.347656  43561.902344  43473.160156   \n",
              "...                                 ...           ...           ...   \n",
              "2022-03-02 22:45:00+00:00  44117.730469  44144.300781  44108.156250   \n",
              "2022-03-02 23:00:00+00:00  44108.886719  44121.613281  44080.812500   \n",
              "2022-03-02 23:15:00+00:00  44081.437500  44147.574219  44081.437500   \n",
              "2022-03-02 23:30:00+00:00  44031.371094  44031.371094  43970.554688   \n",
              "2022-03-02 23:45:00+00:00  43966.433594  43966.433594  43903.992188   \n",
              "\n",
              "                                  Close     Volume  Dividends  Stock Splits  \n",
              "Datetime                                                                     \n",
              "2022-03-01 00:00:00+00:00  43414.171875  147668992          0             0  \n",
              "2022-03-01 00:15:00+00:00  43352.351562  247545856          0             0  \n",
              "2022-03-01 00:30:00+00:00  43454.582031  322068480          0             0  \n",
              "2022-03-01 00:45:00+00:00  43507.128906  277684224          0             0  \n",
              "2022-03-01 01:00:00+00:00  43473.160156   46641152          0             0  \n",
              "...                                 ...        ...        ...           ...  \n",
              "2022-03-02 22:45:00+00:00  44112.726562   16672768          0             0  \n",
              "2022-03-02 23:00:00+00:00  44080.812500   13950976          0             0  \n",
              "2022-03-02 23:15:00+00:00  44125.765625   43182080          0             0  \n",
              "2022-03-02 23:30:00+00:00  43970.554688          0          0             0  \n",
              "2022-03-02 23:45:00+00:00  43932.710938          0          0             0  \n",
              "\n",
              "[192 rows x 7 columns]"
            ],
            "text/html": [
              "\n",
              "  <div id=\"df-31979350-ebd8-41ff-97d0-5ba3592eaa04\">\n",
              "    <div class=\"colab-df-container\">\n",
              "      <div>\n",
              "<style scoped>\n",
              "    .dataframe tbody tr th:only-of-type {\n",
              "        vertical-align: middle;\n",
              "    }\n",
              "\n",
              "    .dataframe tbody tr th {\n",
              "        vertical-align: top;\n",
              "    }\n",
              "\n",
              "    .dataframe thead th {\n",
              "        text-align: right;\n",
              "    }\n",
              "</style>\n",
              "<table border=\"1\" class=\"dataframe\">\n",
              "  <thead>\n",
              "    <tr style=\"text-align: right;\">\n",
              "      <th></th>\n",
              "      <th>Open</th>\n",
              "      <th>High</th>\n",
              "      <th>Low</th>\n",
              "      <th>Close</th>\n",
              "      <th>Volume</th>\n",
              "      <th>Dividends</th>\n",
              "      <th>Stock Splits</th>\n",
              "    </tr>\n",
              "    <tr>\n",
              "      <th>Datetime</th>\n",
              "      <th></th>\n",
              "      <th></th>\n",
              "      <th></th>\n",
              "      <th></th>\n",
              "      <th></th>\n",
              "      <th></th>\n",
              "      <th></th>\n",
              "    </tr>\n",
              "  </thead>\n",
              "  <tbody>\n",
              "    <tr>\n",
              "      <th>2022-03-01 00:00:00+00:00</th>\n",
              "      <td>43194.835938</td>\n",
              "      <td>43420.824219</td>\n",
              "      <td>43194.835938</td>\n",
              "      <td>43414.171875</td>\n",
              "      <td>147668992</td>\n",
              "      <td>0</td>\n",
              "      <td>0</td>\n",
              "    </tr>\n",
              "    <tr>\n",
              "      <th>2022-03-01 00:15:00+00:00</th>\n",
              "      <td>43464.234375</td>\n",
              "      <td>43464.234375</td>\n",
              "      <td>43267.476562</td>\n",
              "      <td>43352.351562</td>\n",
              "      <td>247545856</td>\n",
              "      <td>0</td>\n",
              "      <td>0</td>\n",
              "    </tr>\n",
              "    <tr>\n",
              "      <th>2022-03-01 00:30:00+00:00</th>\n",
              "      <td>43370.152344</td>\n",
              "      <td>43464.714844</td>\n",
              "      <td>43351.890625</td>\n",
              "      <td>43454.582031</td>\n",
              "      <td>322068480</td>\n",
              "      <td>0</td>\n",
              "      <td>0</td>\n",
              "    </tr>\n",
              "    <tr>\n",
              "      <th>2022-03-01 00:45:00+00:00</th>\n",
              "      <td>43460.023438</td>\n",
              "      <td>43549.796875</td>\n",
              "      <td>43418.398438</td>\n",
              "      <td>43507.128906</td>\n",
              "      <td>277684224</td>\n",
              "      <td>0</td>\n",
              "      <td>0</td>\n",
              "    </tr>\n",
              "    <tr>\n",
              "      <th>2022-03-01 01:00:00+00:00</th>\n",
              "      <td>43521.347656</td>\n",
              "      <td>43561.902344</td>\n",
              "      <td>43473.160156</td>\n",
              "      <td>43473.160156</td>\n",
              "      <td>46641152</td>\n",
              "      <td>0</td>\n",
              "      <td>0</td>\n",
              "    </tr>\n",
              "    <tr>\n",
              "      <th>...</th>\n",
              "      <td>...</td>\n",
              "      <td>...</td>\n",
              "      <td>...</td>\n",
              "      <td>...</td>\n",
              "      <td>...</td>\n",
              "      <td>...</td>\n",
              "      <td>...</td>\n",
              "    </tr>\n",
              "    <tr>\n",
              "      <th>2022-03-02 22:45:00+00:00</th>\n",
              "      <td>44117.730469</td>\n",
              "      <td>44144.300781</td>\n",
              "      <td>44108.156250</td>\n",
              "      <td>44112.726562</td>\n",
              "      <td>16672768</td>\n",
              "      <td>0</td>\n",
              "      <td>0</td>\n",
              "    </tr>\n",
              "    <tr>\n",
              "      <th>2022-03-02 23:00:00+00:00</th>\n",
              "      <td>44108.886719</td>\n",
              "      <td>44121.613281</td>\n",
              "      <td>44080.812500</td>\n",
              "      <td>44080.812500</td>\n",
              "      <td>13950976</td>\n",
              "      <td>0</td>\n",
              "      <td>0</td>\n",
              "    </tr>\n",
              "    <tr>\n",
              "      <th>2022-03-02 23:15:00+00:00</th>\n",
              "      <td>44081.437500</td>\n",
              "      <td>44147.574219</td>\n",
              "      <td>44081.437500</td>\n",
              "      <td>44125.765625</td>\n",
              "      <td>43182080</td>\n",
              "      <td>0</td>\n",
              "      <td>0</td>\n",
              "    </tr>\n",
              "    <tr>\n",
              "      <th>2022-03-02 23:30:00+00:00</th>\n",
              "      <td>44031.371094</td>\n",
              "      <td>44031.371094</td>\n",
              "      <td>43970.554688</td>\n",
              "      <td>43970.554688</td>\n",
              "      <td>0</td>\n",
              "      <td>0</td>\n",
              "      <td>0</td>\n",
              "    </tr>\n",
              "    <tr>\n",
              "      <th>2022-03-02 23:45:00+00:00</th>\n",
              "      <td>43966.433594</td>\n",
              "      <td>43966.433594</td>\n",
              "      <td>43903.992188</td>\n",
              "      <td>43932.710938</td>\n",
              "      <td>0</td>\n",
              "      <td>0</td>\n",
              "      <td>0</td>\n",
              "    </tr>\n",
              "  </tbody>\n",
              "</table>\n",
              "<p>192 rows × 7 columns</p>\n",
              "</div>\n",
              "      <button class=\"colab-df-convert\" onclick=\"convertToInteractive('df-31979350-ebd8-41ff-97d0-5ba3592eaa04')\"\n",
              "              title=\"Convert this dataframe to an interactive table.\"\n",
              "              style=\"display:none;\">\n",
              "        \n",
              "  <svg xmlns=\"http://www.w3.org/2000/svg\" height=\"24px\"viewBox=\"0 0 24 24\"\n",
              "       width=\"24px\">\n",
              "    <path d=\"M0 0h24v24H0V0z\" fill=\"none\"/>\n",
              "    <path d=\"M18.56 5.44l.94 2.06.94-2.06 2.06-.94-2.06-.94-.94-2.06-.94 2.06-2.06.94zm-11 1L8.5 8.5l.94-2.06 2.06-.94-2.06-.94L8.5 2.5l-.94 2.06-2.06.94zm10 10l.94 2.06.94-2.06 2.06-.94-2.06-.94-.94-2.06-.94 2.06-2.06.94z\"/><path d=\"M17.41 7.96l-1.37-1.37c-.4-.4-.92-.59-1.43-.59-.52 0-1.04.2-1.43.59L10.3 9.45l-7.72 7.72c-.78.78-.78 2.05 0 2.83L4 21.41c.39.39.9.59 1.41.59.51 0 1.02-.2 1.41-.59l7.78-7.78 2.81-2.81c.8-.78.8-2.07 0-2.86zM5.41 20L4 18.59l7.72-7.72 1.47 1.35L5.41 20z\"/>\n",
              "  </svg>\n",
              "      </button>\n",
              "      \n",
              "  <style>\n",
              "    .colab-df-container {\n",
              "      display:flex;\n",
              "      flex-wrap:wrap;\n",
              "      gap: 12px;\n",
              "    }\n",
              "\n",
              "    .colab-df-convert {\n",
              "      background-color: #E8F0FE;\n",
              "      border: none;\n",
              "      border-radius: 50%;\n",
              "      cursor: pointer;\n",
              "      display: none;\n",
              "      fill: #1967D2;\n",
              "      height: 32px;\n",
              "      padding: 0 0 0 0;\n",
              "      width: 32px;\n",
              "    }\n",
              "\n",
              "    .colab-df-convert:hover {\n",
              "      background-color: #E2EBFA;\n",
              "      box-shadow: 0px 1px 2px rgba(60, 64, 67, 0.3), 0px 1px 3px 1px rgba(60, 64, 67, 0.15);\n",
              "      fill: #174EA6;\n",
              "    }\n",
              "\n",
              "    [theme=dark] .colab-df-convert {\n",
              "      background-color: #3B4455;\n",
              "      fill: #D2E3FC;\n",
              "    }\n",
              "\n",
              "    [theme=dark] .colab-df-convert:hover {\n",
              "      background-color: #434B5C;\n",
              "      box-shadow: 0px 1px 3px 1px rgba(0, 0, 0, 0.15);\n",
              "      filter: drop-shadow(0px 1px 2px rgba(0, 0, 0, 0.3));\n",
              "      fill: #FFFFFF;\n",
              "    }\n",
              "  </style>\n",
              "\n",
              "      <script>\n",
              "        const buttonEl =\n",
              "          document.querySelector('#df-31979350-ebd8-41ff-97d0-5ba3592eaa04 button.colab-df-convert');\n",
              "        buttonEl.style.display =\n",
              "          google.colab.kernel.accessAllowed ? 'block' : 'none';\n",
              "\n",
              "        async function convertToInteractive(key) {\n",
              "          const element = document.querySelector('#df-31979350-ebd8-41ff-97d0-5ba3592eaa04');\n",
              "          const dataTable =\n",
              "            await google.colab.kernel.invokeFunction('convertToInteractive',\n",
              "                                                     [key], {});\n",
              "          if (!dataTable) return;\n",
              "\n",
              "          const docLinkHtml = 'Like what you see? Visit the ' +\n",
              "            '<a target=\"_blank\" href=https://colab.research.google.com/notebooks/data_table.ipynb>data table notebook</a>'\n",
              "            + ' to learn more about interactive tables.';\n",
              "          element.innerHTML = '';\n",
              "          dataTable['output_type'] = 'display_data';\n",
              "          await google.colab.output.renderOutput(dataTable, element);\n",
              "          const docLink = document.createElement('div');\n",
              "          docLink.innerHTML = docLinkHtml;\n",
              "          element.appendChild(docLink);\n",
              "        }\n",
              "      </script>\n",
              "    </div>\n",
              "  </div>\n",
              "  "
            ]
          },
          "metadata": {},
          "execution_count": 4
        }
      ]
    },
    {
      "cell_type": "code",
      "source": [
        "Inserting the data in pandas dataframe which helps in performing different operations"
      ],
      "metadata": {
        "id": "5rOhxc5mli9e"
      },
      "execution_count": null,
      "outputs": []
    },
    {
      "cell_type": "code",
      "source": [
        "data=pd.DataFrame(BTC_historical)"
      ],
      "metadata": {
        "id": "zcLeuvKjghqC"
      },
      "execution_count": null,
      "outputs": []
    },
    {
      "cell_type": "markdown",
      "source": [
        "Dropping/Discarding the columns we do not require to perform our task in Hand.\n",
        "Here we only need Date time, Close and Volume"
      ],
      "metadata": {
        "id": "r6P9wGsklsyp"
      }
    },
    {
      "cell_type": "code",
      "source": [
        "data.drop(data.columns[[ 0,1,2, 5, 6]], axis = 1, inplace = True)"
      ],
      "metadata": {
        "id": "x1IgL-rzhJ1p"
      },
      "execution_count": null,
      "outputs": []
    },
    {
      "cell_type": "markdown",
      "source": [
        "Crosschecking the datatype and converting them as floats or datetime format for furthere processing of dataframe"
      ],
      "metadata": {
        "id": "RaTGEHmul8aC"
      }
    },
    {
      "cell_type": "code",
      "source": [
        "data.dtypes"
      ],
      "metadata": {
        "colab": {
          "base_uri": "https://localhost:8080/"
        },
        "id": "sQQyFt_ngstX",
        "outputId": "f3604e09-d61f-481e-f0e6-9b17c040de9e"
      },
      "execution_count": null,
      "outputs": [
        {
          "output_type": "execute_result",
          "data": {
            "text/plain": [
              "Close    float64\n",
              "dtype: object"
            ]
          },
          "metadata": {},
          "execution_count": 11
        }
      ]
    },
    {
      "cell_type": "markdown",
      "source": [
        "Coding an order function to execute the BUY order and sell or BTC price increasese with 3bps. ALSO, forming a hedge using futures when the pricess falls and our loss amounts to more than 5000 USD.\n",
        "\n",
        "In this case we have not fed the actual apikey and secret key in the algorithm, to make it work we will have to add those to execute the same.\n",
        "\n",
        "Also, we can also create a live trading bot with the same code with minor changes to execute the orders automatically."
      ],
      "metadata": {
        "id": "3omfQEgRmId_"
      }
    },
    {
      "cell_type": "code",
      "source": [
        "def placeorder(entry, lookback, open_position=False):\n",
        "  while True\n",
        "    df=pd.DataFrame(data)\n",
        "    lookback =period=df.iloc[-lookback:]\n",
        "    ret=(lookbackperiod.Close.pct_change() +1).cumprod()-1\n",
        "    if not open_position:\n",
        "      if ret[ret.last_valid_index()] > entry:\n",
        "        order=client.create_order(symbol='BTCUSDT', \n",
        "                                  side='BUY'\n",
        "                                  type='MARKET'\n",
        "                                  quantity=qty)\n",
        "        print(order)\n",
        "        open_position=True\n",
        "        break\n",
        "  if open_position:\n",
        "    while True:\n",
        "      sincebuy=df.loc[df.Datetime > pd.to_datatime(order['transactionTime'],unit='ms') ]\n",
        "\n",
        "      if len(sincebuy)>1\n",
        "      sincebuyret=(sincebuy.Close.pct_change()+1).cumprod()-1\n",
        "      last_entry=sincebuyret[sincebuyret.last_valid_index()]\n",
        "\n",
        "      if last_entry>0.03:\n",
        "      order=client.create_order(symbol='BTCUSDT', \n",
        "                                  side='SELL'\n",
        "                                  type='MARKET'\n",
        "                                  quantity=qty)\n",
        "      a1=order\n",
        "      if last_entry<0 and qty*close> 5000:\n",
        "      order=client.create_order(symbol='BTC=F', \n",
        "                                  side='SELL'\n",
        "                                  type='MARKET'\n",
        "                                  quantity=qty)\n",
        "      \n",
        "      b2=order\n",
        "\n",
        "      profit=b2-b1\n",
        "      df['PROFIT'] = profit\n",
        "      break"
      ],
      "metadata": {
        "id": "cheJxJdJh1X_"
      },
      "execution_count": null,
      "outputs": []
    },
    {
      "cell_type": "markdown",
      "source": [
        "Calculating Gross P&L in basis poits "
      ],
      "metadata": {
        "id": "sZRjUgdkmq7H"
      }
    },
    {
      "cell_type": "code",
      "source": [
        "df2=pd.DataFrame(df)\n",
        "df2.groupby((()\n",
        "    [pd.to_datetime(df.Time).dt.strftime(' %Y'), 'PROFIT']\n",
        ")['Count'].mean().reset_index(name='Average'))/1000)*volume\n"
      ],
      "metadata": {
        "id": "aavIGyXvQR_Y"
      },
      "execution_count": null,
      "outputs": []
    },
    {
      "cell_type": "markdown",
      "source": [
        "Calculating Gross P&L in dollars"
      ],
      "metadata": {
        "id": "Eddz-YNOm4WQ"
      }
    },
    {
      "cell_type": "code",
      "source": [
        "df2[SumProfit]=df2[PROFIT].sum(axis = 0, skipna = True)\n"
      ],
      "metadata": {
        "id": "YnSyeCrSmyjo"
      },
      "execution_count": null,
      "outputs": []
    },
    {
      "cell_type": "markdown",
      "source": [
        "Calculating Maximum Drawdown"
      ],
      "metadata": {
        "id": "0saZPBj1myS-"
      }
    },
    {
      "cell_type": "code",
      "source": [
        "df2[MaximumDrawdown] = df2[PROFIT].min()"
      ],
      "metadata": {
        "id": "t1mezw66nNb1"
      },
      "execution_count": null,
      "outputs": []
    },
    {
      "cell_type": "markdown",
      "source": [
        "Caluculating Average Win P&*L"
      ],
      "metadata": {
        "id": "SFmHZ4NknNKB"
      }
    },
    {
      "cell_type": "code",
      "source": [
        "df2['Avgwin'] = df2.groupby('Time')['PROFIT'].apply(lambda x: x[x>0].mean()).reset_index()]"
      ],
      "metadata": {
        "id": "PPg6ZGzSnT3W"
      },
      "execution_count": null,
      "outputs": []
    },
    {
      "cell_type": "markdown",
      "source": [
        "Caluculating Average Loss P&*L"
      ],
      "metadata": {
        "id": "ixB8FEBGnKRj"
      }
    },
    {
      "cell_type": "code",
      "source": [
        "df2['Avgloss'] = df2.groupby('Time')['PROFIT'].apply(lambda x: x[x<0].mean()).reset_index()]"
      ],
      "metadata": {
        "id": "i8C0Dw3znhTe"
      },
      "execution_count": null,
      "outputs": []
    },
    {
      "cell_type": "code",
      "source": [
        "Calcuating Number of Trades"
      ],
      "metadata": {
        "id": "cYeXZufanoFQ"
      },
      "execution_count": null,
      "outputs": []
    },
    {
      "cell_type": "code",
      "source": [
        "df2[Numberoftrades]=df2[PROFIT].count()"
      ],
      "metadata": {
        "id": "YWVqjDZZnrKd"
      },
      "execution_count": null,
      "outputs": []
    },
    {
      "cell_type": "code",
      "source": [
        "# THIS ALGORITHM WILL NEED TO BE MANUALLY STOPED, AS IT WILL KEEP ON RUNNING"
      ],
      "metadata": {
        "id": "2KmQ3E6_n5i7"
      },
      "execution_count": null,
      "outputs": []
    }
  ]
}